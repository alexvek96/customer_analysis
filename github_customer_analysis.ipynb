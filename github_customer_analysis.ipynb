{
  "cells": [
    {
      "cell_type": "code",
      "source": [
        "# mount your GDrive, where the .ipynb and the .csv files are\n",
        "from google.colab import drive\n",
        "drive.mount('/content/drive')"
      ],
      "metadata": {
        "id": "KN8RCFlFT7co"
      },
      "execution_count": null,
      "outputs": []
    },
    {
      "cell_type": "markdown",
      "metadata": {
        "id": "Fs_SCQjfRE98"
      },
      "source": [
        "# **Data Mining Techniques (Ex 1) | Customer personality analysis**\n",
        "#--------------------------------------------------------------------------------------------------------\n",
        "\n"
      ]
    },
    {
      "cell_type": "markdown",
      "source": [
        "### Question 1: Dataset preprocessing\n",
        "The following actions were performed during data preprocessing:\n",
        "\n",
        "- Assignment of the ID column as the index of the dataframe. This is useful for faster and more efficient record lookups based on the ID.\n",
        "- Deletion of records that contain at least one empty value.\n",
        "- Conversion of the Dt_Customer column to a Datetime object with the format (DAY-MONTH-YEAR).\n",
        "- Creation and application of mappings between text and numerical values for the Education and Marital_Status columns."
      ],
      "metadata": {
        "id": "aXhbtELXP_Mj"
      }
    },
    {
      "cell_type": "code",
      "execution_count": null,
      "metadata": {
        "id": "pKRLYUYsRE-L"
      },
      "outputs": [],
      "source": [
        "import pandas as pd\n",
        "\n",
        "df = pd.read_csv(\"/content/drive/My Drive/marketing_campaign.csv\", delimiter=\"\\t\")\n",
        "df.dropna(axis=0, inplace=True)\n",
        "\n",
        "# Change to Datetime object\n",
        "df['Dt_Customer'] = pd.to_datetime(df['Dt_Customer'], format=\"%d-%m-%Y\")\n",
        "\n",
        "# Convert Marital status values to integers\n",
        "Marital_Status_map = {status: num for num, status in enumerate(df['Marital_Status'].unique())}\n",
        "df['Marital_Status'] = df['Marital_Status'].map(Marital_Status_map)\n",
        "\n",
        "# Convert Education values to integers\n",
        "Education_map = {education: num for num,\n",
        "                      education in enumerate(df['Education'].unique())}\n",
        "df['Education'] = df['Education'].map(Education_map)\n",
        "df"
      ]
    },
    {
      "cell_type": "markdown",
      "metadata": {
        "id": "u56c1jqNRE-T"
      },
      "source": [
        "### Question 2: Count for unique values of Marital Status and Education\n",
        "Initially, for the data in the Marital_Status column, we replace the values \"Absurd,\" \"Alone,\" and \"YOLO\" with the value \"Single.\" Then, a chart is created that displays the count of individuals for each category (unique value of Marital_Status). Finally, we assign the labels of the column values to the chart based on the mapping structure between text and numbers. We follow the same process for the Education column chart as well."
      ]
    },
    {
      "cell_type": "code",
      "execution_count": null,
      "metadata": {
        "id": "AKgwOTKlRE-W"
      },
      "outputs": [],
      "source": [
        "import seaborn as sns\n",
        "\n",
        "# Replace dataframe unique values Absurd, Alone, YOLO with Single\n",
        "df['Marital_Status'] = df['Marital_Status'].replace([Marital_Status_map['Absurd'], Marital_Status_map['Alone'], Marital_Status_map['YOLO']], Marital_Status_map['Single'])\n",
        "Marital_Status_map = {status: key for status, key in Marital_Status_map.items() if status not in ['Alone', 'Absurd', 'YOLO']} # update map\n",
        "plot_status = sns.countplot(x='Marital_Status', data=df)\n",
        "\n",
        "# Set labels for marital status based on str values instead of integers\n",
        "unique_statuses = [status for status in Marital_Status_map]\n",
        "plot_status.set_xticklabels(unique_statuses);"
      ]
    },
    {
      "cell_type": "code",
      "execution_count": null,
      "metadata": {
        "id": "CXAsHzozRE-Z"
      },
      "outputs": [],
      "source": [
        "plot_edu = sns.countplot(x='Education', data=df)\n",
        "\n",
        "# Set labels for Education based on str values instead of integers\n",
        "unique_edu = [edu for edu in Education_map]\n",
        "plot_edu.set_xticklabels(unique_edu);"
      ]
    },
    {
      "cell_type": "markdown",
      "metadata": {
        "id": "PBUEXVK0RE-c"
      },
      "source": [
        "### Question 3: Create new columns\n",
        "The creation of new columns in the dataframe is performed through a simple assignment using the format df['x'] = expr, where 'x' is the name of the column, and the assignment is applied for each row of the column. If we want to apply some if-else logic to each data in the column, we use the .apply() method on the dataframe, passing a reference to a function as an argument."
      ]
    },
    {
      "cell_type": "code",
      "execution_count": null,
      "metadata": {
        "id": "lQdG9pL3RE-e"
      },
      "outputs": [],
      "source": [
        "# A Customer For\n",
        "curr_day = pd.Timestamp(pd.Timestamp.now().strftime('%Y-%m-%d'))\n",
        "df['Customer_For'] = (curr_day - pd.to_timedelta(df['Recency'], unit='day')) - df['Dt_Customer']\n",
        "\n",
        "# B Age\n",
        "curr_year = pd.Timestamp.now().year\n",
        "df['Age'] = curr_year - df['Year_Birth']\n",
        "\n",
        "# C Spent\n",
        "df['Spent'] = df['MntWines'] + df['MntFruits'] + df['MntMeatProducts'] + df['MntFishProducts'] + df['MntSweetProducts'] + df['MntGoldProds']\n",
        "\n",
        "# D Children\n",
        "df['Children'] = df['Kidhome'] + df['Teenhome']\n",
        "\n",
        "# E Family Size\n",
        "def parents(x):\n",
        "    if x == Marital_Status_map['Married'] or x == Marital_Status_map['Together']:\n",
        "        return 2\n",
        "    else:\n",
        "        return 1\n",
        "df['Family_Size'] = df['Children'] + df['Marital_Status'].apply(lambda x: parents(x))\n",
        "\n",
        "# F Is_Parent\n",
        "def Is_Parent(x):\n",
        "    if x == Marital_Status_map['Single'] or x == Marital_Status_map['Together']:\n",
        "        return 0\n",
        "    else:\n",
        "        return 1\n",
        "df['Is_Parent'] = df['Marital_Status'].apply(lambda x: Is_Parent(x))\n",
        "\n",
        "# G Living_With\n",
        "def status(x):\n",
        "    if x == Marital_Status_map['Married'] or x == Marital_Status_map['Together']:\n",
        "        return 'Partner'\n",
        "    else:\n",
        "        return 'Alone'\n",
        "df['Living_With'] = df['Marital_Status'].apply(lambda x: status(x))\n",
        "\n",
        "# H Age Group\n",
        "def age_group(age):\n",
        "    if age >= 21 and age <= 30:\n",
        "        return '21-30'\n",
        "    elif age >= 31 and age <= 40:\n",
        "        return '31-40'\n",
        "    elif age >= 41 and age <= 50:\n",
        "        return '41-50'\n",
        "    elif age >= 51 and age <= 60:\n",
        "        return '51-60'\n",
        "    elif age >= 61 and age <= 70:\n",
        "        return '61-70'\n",
        "    elif age >= 71 and age <= 80:\n",
        "        return '71-80'\n",
        "    else:\n",
        "        return '80-...'\n",
        "df['Age_Group'] = df['Age'].apply(lambda age: age_group(age))\n",
        "df"
      ]
    },
    {
      "cell_type": "markdown",
      "metadata": {
        "id": "yQumADQURE-k"
      },
      "source": [
        "### Question 4: Remove outliers\n",
        "To remove outliers from the data, we selected the Age, Income, and Spent columns as they are more important for our data analysis. We set an acceptable limit of standard deviation for all the data. After calculating the standard deviation for each data point in the dataframe relative to the others belonging to the same column, those exceeding the limit are removed. The value of 3 was chosen as the absolute threshold because we observed that it only removes values that significantly differ from the rest, avoiding inconsistencies in subsequent analysis. For example, it removes age values above 100."
      ]
    },
    {
      "cell_type": "code",
      "execution_count": null,
      "metadata": {
        "id": "FXG_sifoRE-m"
      },
      "outputs": [],
      "source": [
        "from scipy import stats\n",
        "\n",
        "zscore_limit = 3 # limit\n",
        "\n",
        "# Age outliers\n",
        "age_zscores = stats.zscore(df['Age'])\n",
        "df = df.loc[abs(age_zscores) <= zscore_limit]\n",
        "\n",
        "# Income\n",
        "income_zscores = stats.zscore(df['Income'])\n",
        "df = df.loc[abs(income_zscores) <= zscore_limit]\n",
        "\n",
        "# Spent\n",
        "spent_zscores = stats.zscore(df['Spent'])\n",
        "df = df[abs(spent_zscores) <= zscore_limit]\n",
        "\n",
        "df"
      ]
    },
    {
      "cell_type": "markdown",
      "source": [
        "### Question 5: Heatmap to find characteristics correlations\n",
        "In the following heatmap chart, we observe the correlation between the data in each column of the dataframe with the data in the other columns. The correlation between two columns is represented by a number ranging from -1 to 1. If the number is positive, it indicates that as it increases, the correlation also increases, meaning that the data in the respective columns tend to increase or decrease at a similar rate. If we have a negative correlation, it means that as the values of one column increase, the values of the other column tend to decrease."
      ],
      "metadata": {
        "id": "R__NsAFbQmvP"
      }
    },
    {
      "cell_type": "code",
      "source": [
        "import matplotlib.pyplot as plt\n",
        "df_heatmap = df[['Age', 'Spent', 'Income', 'Family_Size', 'Children', 'MntWines', 'MntFruits', 'MntMeatProducts', 'MntFishProducts', 'MntSweetProducts', 'MntGoldProds',\n",
        "                 'NumDealsPurchases', 'NumWebPurchases', 'NumCatalogPurchases', 'NumStorePurchases']]\n",
        "sns.heatmap(df_heatmap.corr(), annot=False, cmap='coolwarm');"
      ],
      "metadata": {
        "id": "gsTgoaEeQ8uw"
      },
      "execution_count": null,
      "outputs": []
    },
    {
      "cell_type": "markdown",
      "source": [
        "### Question 6: Plots\n",
        "\n",
        "- Countplot: It shows the count for each unique value of a column.\n",
        "- Boxplot: It displays the relationship between data from different columns by finding the median (line), the minimum and maximum values (top and bottom lines), how spread out the data is in the upper and lower quartiles, as well as any values considered outliers (diamonds). It is important to note that the outliers shown in the diagrams do not negatively affect our analysis, so we did not further restrict our data.\n",
        "- Histogram: It shows the count for each value in the column of interest. If there are many values (e.g., Income), then the values are grouped together."
      ],
      "metadata": {
        "id": "M2Pcjct9Q-ze"
      }
    },
    {
      "cell_type": "code",
      "source": [
        "# 2 x 5 grid of plots\n",
        "fig, axs = plt.subplots(nrows=5, ncols=2, figsize=(15, 25))\n",
        "\n",
        "# 2. Number of customers that have complained\n",
        "complain_plot = sns.countplot(x='Complain', data=df.loc[df['Complain'] == 1], ax=axs[0, 0])\n",
        "complain_plot.set_ylabel('Customers')\n",
        "complain_plot.set_xticklabels(['Complained'])\n",
        "\n",
        "# 3. Marital status and Spent\n",
        "Spent_Marital_plot = sns.boxplot(x='Marital_Status', y='Spent', data=df, ax=axs[0, 1])\n",
        "Spent_Marital_plot.set_xticklabels(unique_statuses)\n",
        "\n",
        "# 4. Family_Size and Spent\n",
        "sns.boxplot(x='Family_Size', y='Spent', data=df, ax=axs[1, 0])\n",
        "\n",
        "# 7. Education and Income\n",
        "Edu_Income_plot = sns.boxplot(x='Education', y='Income', data=df, ax=axs[1, 1])\n",
        "Edu_Income_plot.set_xticklabels(unique_edu)\n",
        "\n",
        "# 8. Family_Size and Income\n",
        "sns.boxplot(x='Family_Size', y='Income', data=df, ax=axs[2, 0])\n",
        "\n",
        "# 9. Children and Income\n",
        "sns.boxplot(x='Children', y='Income', data=df, ax=axs[2, 1])\n",
        "\n",
        "# 10. Living With and Income\n",
        "sns.boxplot(x='Living_With', y='Income', data=df, ax=axs[3, 0])\n",
        "\n",
        "# 12. Number of web purhcases and number of visits per month\n",
        "sns.boxplot(x='NumWebPurchases', y='NumWebVisitsMonth', data=df, ax=axs[3, 1])\n",
        "\n",
        "# 14. NumDealsPurchases\n",
        "sns.histplot(data=df, x='NumDealsPurchases', ax=axs[4, 0])\n",
        "\n",
        "# 15. histogram Income\n",
        "sns.histplot(data=df, x='Income', ax=axs[4, 1])\n",
        "\n",
        "# adjust the spacing between subplots\n",
        "plt.subplots_adjust(hspace=0.5, wspace=0.5)\n",
        "\n",
        "# show the plot\n",
        "plt.show()"
      ],
      "metadata": {
        "id": "tLiqeV6rRCjl"
      },
      "execution_count": null,
      "outputs": []
    },
    {
      "cell_type": "markdown",
      "source": [
        "### Question 7: LabelEncoder() following 'One Hot Encoding' logic\n",
        "The LabelEncoder() is a library that converts categorical variables (generally non-numerical data) into numerical values. For example, in the real world, a person has a gender of male/female. The LabelEncoder() reads such data and converts them into numerical values (e.g., male=0, female=1, and so on). It recognizes how many different unique values of a categorical variable appear in the data and maps them to values from 0 to \"number of unique different values - 1\". The use of LabelEncoder() is done at this stage, before applying the StandardScaler(), because the latter needs to accept numerical values to normalize them.\n"
      ],
      "metadata": {
        "id": "BennZx7ezMqt"
      }
    },
    {
      "cell_type": "code",
      "source": [
        "# Importing SciKit Learn packages\n",
        "from sklearn.preprocessing import LabelEncoder\n",
        "\n",
        "# Education\n",
        "# Initialize 'Education' unique values set\n",
        "education_data = {'Education': ['Graduation', 'PhD', 'Master', 'Basic', '2n Cycle']}\n",
        "\n",
        "# Use LabelEncoder to convert category values to numerical values and create a new column in the DataFrame\n",
        "label_encoder = LabelEncoder()\n",
        "df['Education'] = label_encoder.fit_transform(df['Education'])\n",
        "\n",
        "# Marital_Status\n",
        "# Initialize 'Marital_Status' unique values set\n",
        "marital_status_data = {'Marital_Status': ['Single', 'Together', 'Married', 'Divorced', 'Widow']}\n",
        "\n",
        "# Use LabelEncoder to convert category values to numerical values and create a new column in the DataFrame\n",
        "df['Marital_Status'] = label_encoder.fit_transform(df['Marital_Status'])\n",
        "\n",
        "# Living_With\n",
        "# Initialize 'Living_With' unique values set\n",
        "education_data = {'Living_With': ['Alone', 'Partner']}\n",
        "\n",
        "# Use LabelEncoder to convert category values to numerical values and create a new column in the DataFrame\n",
        "df['Living_With'] = label_encoder.fit_transform(df['Living_With'])\n",
        "\n",
        "df"
      ],
      "metadata": {
        "id": "zBt2y5BajwwX"
      },
      "execution_count": null,
      "outputs": []
    },
    {
      "cell_type": "code",
      "source": [
        "# making a copy of the current DataFrame (df)\n",
        "df_copy = df.copy()\n",
        "\n",
        "# deleting columns related to promoting and special offers\n",
        "df_copy = df_copy.drop(['AcceptedCmp3', 'AcceptedCmp4', 'AcceptedCmp5', 'AcceptedCmp1', 'AcceptedCmp2', 'Complain', 'Response'], axis=1)\n",
        "\n",
        "df_copy"
      ],
      "metadata": {
        "id": "OTGU5MibzJEw"
      },
      "execution_count": null,
      "outputs": []
    },
    {
      "cell_type": "markdown",
      "source": [
        "The StandardScaler() by default normalizes the data so that its distribution has a mean (μ) of 0 and a standard deviation (σ) of 1 in each column."
      ],
      "metadata": {
        "id": "_AIEEwQBTtnC"
      }
    },
    {
      "cell_type": "code",
      "source": [
        "from sklearn.preprocessing import StandardScaler\n",
        "\n",
        "# function to convert an 'Age Group' (age range) string into numerical value\n",
        "def convert_age_range(age_range):\n",
        "\n",
        "    age_range = age_range.split('-')\n",
        "    age = (int(age_range[0]) / 10) + 1\n",
        "    return age\n",
        "\n",
        "# convert Timestamp values into numerical values\n",
        "df_copy['Dt_Customer'] = df_copy['Dt_Customer'].apply(lambda x: x.timestamp() if isinstance(x, pd.Timestamp) else x)\n",
        "\n",
        "# convert Timedelta values into numerical values\n",
        "df_copy['Customer_For'] = df_copy['Customer_For'].apply(lambda x: x.days if isinstance(x, pd.Timedelta) else x)\n",
        "\n",
        "# convert 'Age_Group' values form strings into numerical values\n",
        "# for example, range '51-60' is converted into '6', because '51-60' range represents the 6th decade of a human's life\n",
        "df_copy['Age_Group'] = df_copy['Age_Group'].apply(convert_age_range)\n",
        "\n",
        "# create an instance of the StandardScaler object\n",
        "scaler = StandardScaler()\n",
        "\n",
        "# fit and standardize the DataFrame (df_copy), after the numerical conversions we made\n",
        "df_standardized = pd.DataFrame(scaler.fit_transform(df_copy), columns=df_copy.columns)\n",
        "\n",
        "df_standardized"
      ],
      "metadata": {
        "id": "G6RRrJuw1Ufv"
      },
      "execution_count": null,
      "outputs": []
    },
    {
      "cell_type": "code",
      "source": [
        "# processing the new DataFrame (df_standardized) using PCA\n",
        "\n",
        "# import the PCA module\n",
        "from sklearn.decomposition import PCA\n",
        "\n",
        "\n",
        "# define number of dimensions (= components) we want our data to be reduced to\n",
        "pca = PCA(n_components=3)\n",
        "pca.fit(df_standardized)\n",
        "pca_components = pca.transform(df_standardized)\n",
        "\n",
        "df_PCA = pd.DataFrame(pca_components, columns=['PCA_1', 'PCA_2', 'PCA_3'])"
      ],
      "metadata": {
        "id": "SFrw87v8V3lq"
      },
      "execution_count": null,
      "outputs": []
    },
    {
      "cell_type": "markdown",
      "source": [
        "The 3D plot is interactive, allowing better visualization and understanding of the results. It provides features such as mouse drag and zooming to explore the plot from different angles and perspectives."
      ],
      "metadata": {
        "id": "DH4zy53tl4vV"
      }
    },
    {
      "cell_type": "code",
      "source": [
        "import plotly.graph_objs as go\n",
        "import matplotlib.pyplot as plt\n",
        "\n",
        "# Define the data for the 3D scatter plot\n",
        "data = go.Scatter3d(x=df_PCA['PCA_1'], y=df_PCA['PCA_2'], z=df_PCA['PCA_3'], mode='markers', marker=dict(size=4, color='red', opacity=0.8))\n",
        "\n",
        "# Define the layout for the plot\n",
        "layout = go.Layout(title='3D Plot of PCA components', width=800, height=800, margin=dict(l=0, r=0, t=50, b=0), scene=dict(xaxis_title='PCA_1', yaxis_title='PCA_2', zaxis_title='PCA_3'))\n",
        "\n",
        "# Combine the data and layout into a figure\n",
        "fig = go.Figure(data=data, layout=layout)\n",
        "\n",
        "# Show the figure\n",
        "fig.show()"
      ],
      "metadata": {
        "id": "onBkn86KlNeh"
      },
      "execution_count": null,
      "outputs": []
    },
    {
      "cell_type": "markdown",
      "source": [
        "### Question 8: Clustering"
      ],
      "metadata": {
        "id": "d1KRFdphk_EU"
      }
    },
    {
      "cell_type": "markdown",
      "source": [
        "* The ELBOW algorithm is applied to normalized data, so we need to use the normalized version of our .csv file, which is the df_standardized dataframe. The ELBOW method calculates the optimal number of clusters to apply to a dataset for the best representation/correlation of the data. We input a range of values equal to the different numbers of clusters we want to test in order to find the most suitable one for our dataset. The algorithm calculates the SSE (Sum of Squared Errors), which is the sum of the squared errors as a function of the number of clusters each time. Thus, a function is defined, which in turn is represented by a correlation diagram of 'SSE-num of clusters'.\n",
        "\n",
        "* For example, in the following diagram, we initially observe that as we consider more clusters, the SSE decreases (which is expected because the more cluster centroids we have, the fewer data points will be far away from the centroids, resulting in smaller SSE terms). After a certain number of clusters, the change in SSE is not significant. Conversely, if we choose to have fewer clusters (i.e., cluster centroids), more distant data points will appear (larger square errors), resulting in an overall increase in SSE.\n",
        "\n",
        "* In order to find the optimal number of clusters, we check at which point of the diagram (at what number of clusters) the SSE starts to increase rapidly (in our example, this happens for #clusters=3 or 4). This is the point/region that forms an \"elbow,\" which is why it is called the ELBOW method."
      ],
      "metadata": {
        "id": "CmPOx0QIlHMv"
      }
    },
    {
      "cell_type": "markdown",
      "source": [
        "![image.png](data:image/png;base64,iVBORw0KGgoAAAANSUhEUgAAAjMAAAHHCAIAAADF204HAAAgAElEQVR4nO3dd1xT5+I/8OckgQQCBMIOhOXCgYgCKjir1eLeo946eq0duKq1lfZrXVW0v9te66211d7rqHW0KmrraquiaFWWgIooS/aQmUAgQJLfH0fTFFki4RzI5/1HX8nJIfnQ1nw85zzneSiNRkMAAABYg8N0AAAAgL9BMwEAALugmQAAgF3QTAAAwC5oJgAAYBc0EwAAsAuaCQAA2AXNBAAA7IJmAgAAdkEzARBCCEVRGzZsoB9v2LCBoqiioiJmI7UtNze3CRMmtNW7hYeHUxQVHh7eVm8IoAvNBAZh//79VENu3brFdLS/uLm5URQ1evToetv37t1Lp42Ojm7J+yQmJm7YsOHx48d6yAjQHnhMBwBoP5s2bXJ3d9fd0rVrV6bCNEggEFy5ciU/P9/BwUG78ccffxQIBNXV1S18k8TExI0bN44YMcLNzU0/MQH0C80EBiQoKMjX15fpFE0JDAyMioo6duzYihUr6C3Z2dkRERFTp049ceIEs9kA2g3O5gE0rKioaNasWRYWFtbW1itWrNA9ZKmrq9u8eXOXLl34fL6bm9vHH3+sVCrpl1atWmVtba2dwn/ZsmUURe3cuZN+WlBQQFHU7t27G/tQgUAwbdq0w4cPa7ccOXLEyspq7Nix9fZMSkqaMWOGWCwWCAS+vr5nzpyht+/fv3/mzJmEkJEjR9LnAHWvBl2/ft3f318gEHh4eBw8eFD3DdPS0mbOnCkWi01NTQcNGnT27FndV7Ozs6dMmSIUCu3s7N5//33t7wugD2gmMCDl5eVFOoqLi5vYedasWdXV1aGhoePGjdu5c+eSJUu0Ly1evPjTTz/t37//v//97+HDh4eGhs6ZM4d+aejQoSUlJffv36efRkREcDiciIgI7VNCyLBhw5r43Ndffz0yMjI1NZV+evjw4RkzZhgZGenuc//+/UGDBj148GDt2rVffPGFUCicMmVKWFgY/ebLly8nhHz88cc//PDDDz/80LNnT/qnUlJSZsyY8eqrr37xxRdWVlYLFy7U5iwoKAgICLh48eJ77723ZcuW6urqSZMm0W9ICKmqqho1atTFixeXLl36ySefREREfPjhh839ywZ4CRoAA7Bv377n/+fn8/naHQgh69evpx+vX7+eEDJp0iTtq++99x4hJD4+XqPRxMXFEUIWL16sffWDDz4ghFy+fFmj0RQWFhJCvvnmG41GU1ZWxuFwZs6caW9vT++5fPlysVisVqsbDOnq6jp+/Pi6ujoHB4fNmzdrNJrExERCyNWrV+n8UVFR9J6jRo3y8vKqrq6mn6rV6oCAgG7dutFPf/75Z0LIlStX6r05IeTatWv008LCQj6fv3r1avrpypUrCSERERH0U7lc7u7u7ubmplKpNBrNjh07CCE//fQT/WplZSV9fa7eRwC0FRwzgQHZtWvX7zrOnz/fxM7BwcHax8uWLSOEnDt3TvvPVatWaV9dvXo1IYQ+/WVra+vp6Xnt2jVCyI0bN7hc7po1awoKCpKTkwkhERERQ4YMoSiqic/lcrmzZs06cuQIIeTHH3+USqVDhw7V3aGkpOTy5cuzZs2Sy+Xag7+xY8cmJyfn5OQ08c69evXSvpWtrW2PHj3S0tLop+fOnfP39x8yZAj91MzMbMmSJY8fP6ar8dy5c46OjjNmzKBfNTU11T2CBGhzGAEBBsTf37/lIyC6deumfdylSxcOh0OPw87IyOBwOLqD+hwcHCwtLTMyMuinQ4cOpdsrIiLC19fX19dXLBZHRETY29vHx8e//vrrzX7066+/vnPnzvj4+MOHD8+ZM6dek6WkpGg0mnXr1q1bt67eDxYWFjo5OTX2ti4uLrpPraysSktL6ccZGRkDBw7UfZU+B5iRkdGnT5+MjIyuXbvqxujRo0ezvwVAq6GZAJr3/FFOE8c9Q4YM2bt3b1paWkRExNChQymKGjJkSEREhEQiUavV9Q6AGjRw4MAuXbqsXLkyPT39+SZTq9WEkA8++OD5YRFND4Lncrn1tmiejdQAYBU0E0DDkpOTtTc/paSkqNVq+vYgV1dXtVqdnJysHVlQUFBQVlZGX8ghhNDd8/vvv0dFRa1du5YQMmzYsN27d0skEqFQOGDAgJZ8+ty5cz/77LOePXv269ev3kseHh6EECMjo+fvyaU1fbawQa6urg8fPtTdkpSURG+n/3nv3j2NRqN953o7A7QtXGcCaNiuXbu0j//zn/8QQoKCgggh48aNI4TQgwJoX375JSFk/Pjx9FN3d3cnJ6d///vftbW1gYGBhJChQ4empqYeP3580KBBPF6L/jq4ePHi9evXf/HFF8+/ZGdnN2LEiO+++y4vL093+5MnT+gHQqGQEFJWVtbyX3bcuHGRkZE3b96kn1ZWVu7Zs8fNza1Xr170q7m5ucePH6dfVSgUe/bsafmbA7woHDOBATl//jx9KKAVEBBAH4I8Lz09fdKkSa+99trNmzcPHTr0+uuve3t7E0K8vb0XLFiwZ8+esrKy4cOHR0ZGHjhwYMqUKSNHjtT+7NChQ48ePerl5WVlZUUI6d+/v1AofPToUUsuMtFcXV218/g9b9euXUOGDPHy8nrrrbc8PDwKCgpu3ryZnZ0dHx9PCOnXrx+Xy92+fXt5eTmfz3/llVfs7Oya/ri1a9ceOXIkKCiIHj144MCB9PT0EydOcDgcQshbb7319ddfz58/PyYmxtHR8YcffjA1NW3hLwLQGgyPDQRoFw2OGieE7Nu3j96BPDdqPDExccaMGebm5lZWVkuXLq2qqtK+W21t7caNG93d3Y2MjKRSaUhIiHYAN40+3nr33Xe1W+gzb5cuXWoiJD1qvIn82lHjGo0mNTV1/vz5Dg4ORkZGTk5OEyZMOH78uPbVvXv3enh40BeW6LHdz7/58OHDhw8frvuGM2bMsLS0FAgE/v7+v/76q+7OGRkZkyZNMjU1tbGxWbFixYULFwhGjYPeUBpcAgUAADbBdSYAAGAXNBMAALALmgkAANgFzQQAAOyCZgIAAHZBMwEAALt0mDtt1Wp1bm6uubl5K2ZeAQAA9tBoNHK5XCKR0LdyP6/DNFNubq5UKmU6BQAAtI2srCxnZ+cGX+owzWRubk4IycrKsrCwYDoLAAC0nkwmk0ql9Ld6gzpMM9En8SwsLNBMAACdQBOXZjACAgAA2AXNBAAA7IJmAgAAdkEzAQAAu6CZAACAXdBMAADALmgmAABgFzQTAACwC5oJAADYBc0EAADsgmYCAAB2QTMBAAC7GFYzPcyXF8iqmU4BAABN0W8zXbt2beLEiRKJhKKoU6dO6b704MGDSZMmiUQioVDo5+eXmZmp1ySEkM2/Jo7dce3An4/1/UEAAPAy9NtMlZWV3t7eu3btqrc9NTV1yJAhnp6e4eHhCQkJ69atEwgEek1CCPF1tSKE/ByTXadS6/uzAACg1fS7PlNQUFBQUNDz2z/55JNx48Z9/vnn9NMuXbroNQZtVE97a6HxE7nyysMnr/ayb4dPBACAVmDgOpNarT579mz37t3Hjh1rZ2c3cODAeif6tJRKpUzHS36uMY8zfYAzIeRYlN7PHAIAQKsx0EyFhYUVFRXbtm177bXXfvvtt6lTp06bNu3q1avP7xkaGip6RiqVvvxHz/KVEkIuJxXml2McBAAASzFzzEQImTx58vvvv9+vX7+1a9dOmDDh22+/fX7PkJCQ8meysrJe/qO72pn5uVmpNeREbPbLvxsAAOgDA81kY2PD4/F69eql3dKzZ88Gx+bx+XwLHW3y6bP9XAghx6Ky1GpNm7whAAC0LQaaydjY2M/P7+HDh9otjx49cnV1bZ9PH+flYM7nZZYobqUVt88nAgDAC9Hv2LyKioqUlBT6cXp6elxcnFgsdnFxWbNmzezZs4cNGzZy5MgLFy788ssv4eHhek2iZWrMm9RP8uPtzKNRWQFdbdrnQwEAoOUojUaPJ7XCw8NHjhypu2XBggX79+8nhPzvf/8LDQ3Nzs7u0aPHxo0bJ0+e3PRbyWQykUhUXl7+8qf17maXT/z6ujGXc/vjUVZC45d8NwAAeCHNfp/rt5naUBs2k0ajGb/zemKebP3EXosC3dskHgAAtFCz3+eGNW8ejaKoOf5SQsjRyKyOUswAAIbDEJuJEDLZ24nP4zwskMdnlzOdBQAA/sZAm0lkajTOy5FgPggAAPYx0GYihMz2kxJCzsTlVirrmM4CAAB/MdxmGugudrM2raxRnU3IYzoLAAD8xXCbiaIoej6IozihBwDAJobbTISQ6QOcuBwqNrPsUYGc6SwAAPCUQTeTnblglKcdIeRYVBtMFwsAAG3CoJuJEELf2HQyNltZp2I6CwAAEIJmGtbN1sFCUKqo/T2xgOksAABACJqJx+XM9KUXusUJPQAAVjD0ZiLPFrqNSC7KKlEwnQUAANBMhEjFpkO62hBCfo7BQrcAAMxDMxHybD6In6OzVFjoFgCAaWgmQggZ09ve0tQor7z6WvITprMAABg6NBMhhPB53Kk+ToSQY5EYBwEAwDA001P0Cb0/HhQ8kSuZzgIAYNDQTE95Olj0k1rWqTUnYzEOAgCASWimv8zxkxJCjkVhoVsAACahmf4ywVtiasxNK6qMelzKdBYAAMOFZvqLGZ83sa+EYF0MAABGoZn+Zra/lBBy7m5eeVUt01kAAAwUmulvfKSW3e3NqmvVZ+Jzmc4CAGCg0Ex/o13o9hhO6AEAMATNVN9UHydjLudejuxeTjnTWQAADBGaqT6x0HhMb3uCdTEAABiCZmrAHD8XQsipuJyqGix0CwDQ3tBMDQjoYu1sZSKvrjt/L4/pLAAABgfN1AAOh5rtKyWEHMUJPQCAdodmatgMX2cORSLTS9KeVDCdBQDAsKCZGuYoMhnRw44Qciwah00AAO0KzdQoel2MEzHZtSo101kAAAwImqlRr3ja2ZjxiypqLj0oZDoLAIABQTM1yojLmTHAmWA+CACA9oVmagp9Qu/qoye5ZVVMZwEAMBT6baZr165NnDhRIpFQFHXq1Knnd3jnnXcoitqxY4deY7Sau41woLtYrSHHY7DQLQBAO9FvM1VWVnp7e+/atavBV8PCwm7duiWRSPSa4SXN8X+60K1ajYVuAQDag36bKSgo6LPPPps6derzL+Xk5CxbtuzHH380MjLSa4aXFNTH0VzAyymrupFaxHQWAACDwMx1JrVa/cYbb6xZs6Z3795N7KZUKmU62i2eLoERd6qPE8F8EAAA7YWZZtq+fTuPx1u+fHnTu4WGhoqekUql7ZPtefQ4iN/u55dU1jCVAQDAcDDQTDExMV999dX+/fspimp6z5CQkPJnsrIYO2TpLRF5OYlqVZqTsRgHAQCgdww0U0RERGFhoYuLC4/H4/F4GRkZq1evdnNze35PPp9voaP9o2rRh03HorI0GoyDAADQLwaa6Y033khISIh7RiKRrFmz5uLFi+2fpOUm9ZMIjDjJhRWxmWVMZwEA6OR4en33ioqKlJQU+nF6enpcXJxYLHZxcbG2ttbuY2Rk5ODg0KNHD70meUkWAqPxXpITsdnHojIHuFoxHQcAoDPT7zFTdHS0j4+Pj48PIWTVqlU+Pj6ffvqpXj9Rf+gbm36Jz5NX1zKdBQCgM9PvMdOIESOavTDz+PFjvWZoK76uVh62wrQnlb8m5M31d2E6DgBAp4V581qKoqg5fljoFgBA79BML2Baf2ceh4rPKnuQx8xtvwAAhgDN9AJszPije9oTQo7hsAkAQG/QTC9mtr+UEBJ2J6e6VsV0FgCAzgnN9GKGdbN1FAnKq2ov3s9nOgsAQOeEZnoxXA4101dKCPkpGif0AAD0As30wmYOcKYociOlOLNYwXQWAIBOCM30wqRi0yFdbQgOmwAA9APN1Bpz/FwIIT/HZNWp1ExnAQDobNBMrTG6l51YaFwgU1599ITpLAAAnQ2aqTX4PO40LHQLAKAfaKZWoldsupxUWCirZjoLAECngmZqpW725gNcrVRqzXEsdAsA0KbQTK2HhW4BAPQBzdR6470czfi8jGLFrbQSprMAAHQeaKbWE/J5E70lhJBjUZlMZwEA6DzQTC+FXrHp3L38cgUWugUAaBtoppfS11nk6WBeU6c+FZfDdBYAgE4CzfRStAvdHonMxDgIAIA2gWZ6WVN8nIx5nKR8+d2ccqazAAB0Bmiml2VpahzUx4FgPggAgDaCZmoD9I1NZ+JyFTV1TGcBAOjw0ExtYJC7tau1aYWy7mxCHtNZAAA6PDRTG+BwqFm+T+eDYDoLAECHh2ZqGzMGOHM5VHRGaUqhnOksAAAdG5qpbdhbCEb2sCM4bAIAeGlopjZD39h0Ijanpg4L3QIAtB6aqc2M6GFrZ84vqaz540EB01kAADowNFOb4XE5M32dCW5sAgB4OWimtkSP0ItIfpJdqmA6CwBAR4Vmakuu1sKALtYaDfk5GgvdAgC0EpqpjdHzQfwcnaVSY4JXAIDWQDO1sbG9HUQmRrnl1RHJT5jOAgDQIaGZ2pjAiDvVx4ngxiYAgNZCM7U9+oTe74kFRRVKprMAAHQ8+m2ma9euTZw4USKRUBR16tQpemNtbe1HH33k5eUlFAolEsn8+fNzc3P1GqOd9XS08HYW1ak1J2MxDgIA4IXpt5kqKyu9vb137dqlu1GhUMTGxq5bty42NvbkyZMPHz6cNGmSXmO0v9l+LoSQo1FZWOgWAOBFUe3z1UlRVFhY2JQpU55/KSoqyt/fPyMjw8XFpYl3kMlkIpGovLzcwsJCbzHbjLy61n/Lpapa1c/vDPZzEzMdBwCARZr9Pmf+OlN5eTlFUZaWls+/pFQqZTraP1urmQuMJvR1JIQcjcQ4CACAF8NwM1VXV3/00Udz585tsDlDQ0NFz0il0vaP9zLm+EsJIWfv5sqqa5nOAgDQkTDZTLW1tbNmzdJoNLt3725wh5CQkPJnsrI62MFHfxerrnZm1bXqM3GdanwHAIC+MdZMdC1lZGT8/vvvjZ1q5PP5FjraOeFLoiiKXhcDNzYBALwQZpqJrqXk5OQ//vjD2tqakQztYKqPkxGXuptTfi+nnOksAAAdhn6bqaKiIi4uLi4ujhCSnp4eFxeXmZlZW1s7Y8aM6OjoH3/8UaVS5efn5+fn19TU6DUJI6zN+GN6ORBCforGYRMAQEvpd9R4eHj4yJEjdbcsWLBgw4YN7u7u9fa8cuXKiBEjmnirjjVqXOvaoyfz/xdpIeBFfjJaYMRlOg4AAPOa/T7n6fXjR4wY0WDzGc79p0O62jhZmuSUVV24lz/Fx4npOAAAHQDz9zN1bhwORS8neDQqk+ksAAAdA5pJ72b6OlMUuZVWkl5UyXQWAIAOAM2kdxJLk+HdbQnGQQAAtAyaqT3QNzYdj8muVamZzgIAwHZopvbwiqe9jZnxE7nySlIh01kAANgOzdQejHmc6f2dCeaDAABoATRTO5nlJyWEXHlYmF9ezXQWAABWQzO1ky62Zv5uYrWGHI/BYRMAQFPQTO1nNj3Ba3SWWm0oNxoDALQCmqn9jPNyNOfzskqqbqYVM50FAIC90Eztx8SYO9lHQgg5inEQAACNQzO1qzl+LoSQi/fySys74dzqAABtAs3Urvo4iXpLLGpU6rA7OUxnAQBgKTRTe9MudGs4E64DALwQNFN7m9TPic/jPCyQx2WVMZ0FAICN0EztTWRiNN7LkWA+CACARqCZGEDf2HQmPrdCWcd0FgAA1kEzMcDfXexuI1TUqM4m5DKdBQCAddBMDKAoij5swo1NAADPQzMxY1p/Jx6HupNZ9jBfznQWAAB2QTMxw85c8IqnHcE4CACA56CZGDPHX0oIOXknW1mnYjoLAACLoJkYM6ybrYOFoExR+9v9AqazAACwCJqJMTwuZ6YvFroFAKgPzcSkWb5SQsj1lKKsEgXTWQAA2ALNxCSp2HRIVxtCyE/ROGwCAHgKzcQw+samn6Oz61RqprMAALACmolhY3rbW5oa5cuqryU/YToLAAAroJkYxudxp/k4E0KORuKEHgAAIWgmNqBP6F1KKiyUVzOdBQCAeWgm5vVwMPdxsVSpNSdisNAtAACaiR2eLXSbiYVuAQDQTKwwoa9EaMx9XKy4nV7CdBYAAIahmVhByOdN9JYQzAcBAIBmYg96HMS5u3nlilqmswAAMEm/zXTt2rWJEydKJBKKok6dOqXdrtFoPv30U0dHRxMTk9GjRycnJ+s1RofQT2rZw95cWac+HY9xEABg0PTbTJWVld7e3rt27aq3/fPPP9+5c+e33357+/ZtoVA4duzY6mpDHzD910K3uLEJAAybfpspKCjos88+mzp1qu5GjUazY8eO//u//5s8eXLfvn0PHjyYm5ure0RlsKb6OBlzOYl5sns55UxnAQBgDAPXmdLT0/Pz80ePHk0/FYlEAwcOvHnzZvsnYRsrofHYPg6EkKNRmUxnAQBgDAPNlJ+fTwixt7fXbrG3t6c31qNUKmU62i8ic+gbm07fya2qwUK3AGCgWD02LzQ0VPSMVCplOk57GOxhLRWbyJV15+7mMZ0FAIAZDDSTg4MDIaSg4K8lxgsKCuiN9YSEhJQ/k5VlEOMCOBxqtq+UEHI4EvNBAICBYqCZ3N3dHRwcLl26RD+VyWS3b98ePHjw83vy+XwLHe0bkzEzBkiNuFRMRum5uw2c4QQA6PT020wVFRVxcXFxcXGEkPT09Li4uMzMTIqiVq5c+dlnn505c+bu3bvz58+XSCRTpkzRa5IOxEEkeHd4F0LI+jP3yhQ1TMcBAGhv+m2m6OhoHx8fHx8fQsiqVat8fHw+/fRTQsiHH364bNmyJUuW+Pn5VVRUXLhwQSAQ6DVJxxL8StcutsKiipotZx8wnQUAoL1RHeVihkwmE4lE5eXlBnJaL/pxyYxvbxJCDv1z4JBuNkzHAQBoM81+n7N6bJ4h83UTvzHIlRDycdhdjCAHAIOCZmKvD1/r4SgSZJYo/v3HI6azAAC0HzQTe5kLjD6b0ocQ8n1EWkJ2GdNxAADaCZqJ1Ub1tJ/oLVFryEcn7taq1EzHAQBoD2gmtls/sZelqdGDPNmea2lMZwEAaA9oJrazMeOvG9+LEPLVpeS0JxVMxwEA0Ds0Uwcwrb/T0G42NXXqkJN31eqOMcofAKDV0EwdAEVRW6d6mRhxb6eXHI0yiPkDAcCQoZk6BqnYdPWY7oSQ0HMPCmSGvv4vAHRuzTdTZGSkStXAnZ5KpfKnn37SQyRo2KJAd29nkVxZt+7UvY4ycwcAQCs030yDBw8uLi6mH1tYWKSlPR0hVlZWNnfuXD1Gg7/jcqht0/vyONRviQUX7mEacgDotJpvJt2/ntf7qzr+5t7OejpavDO8CyHk0zP3yxW1TMcBANCLl7rORFFUW+WAFlr6SlcPW+ETuXLrOUxDDgCdE0ZAdDACI+62aX0JIceis/5MKWI6DgBA2+O1ZKfExMT8/HxCiEajSUpKqqioIIQUFeFrkRn+7uJ/DHI5dCszJOzuhRXDTIy5TCcCAGhLza/PxOFwKKr+bvQWiqIaHLanD4a2PlPT5NW1r355LV9W/fZwj5CgnkzHAQB4Ac1+nzd/zJSent7WqeBlmQuMNk/p89bB6O8j0if2lfRxEjGdCACgzTTfTK6uru2QA17Uq73sx/d1PJuQ9+HxhNNLA424uGQIAJ1E819nRUVFGRkZ2qf3799ftGjRrFmzDh8+rM9g0LwNE3uLTIwS82TfR+C4FgA6j+abadmyZTt37qQfFxYWDh06NCoqSqlULly48IcfftBzPGiKrTn//8b3JITs+ONRelEl03EAANpG881069atSZMm0Y8PHjwoFovj4uJOnz69devWXbt26TkeNGPGAOchXW2UdeqQkwm48RkAOofmmyk/P9/NzY1+fPny5WnTpvF4PELIpEmTkpOT9ZsOmqOdhvxWWskxTEMOAJ1C881kYWFRVlZGP46MjBw4cCD9mKIopVKpx2jQMi7WT6ch34JpyAGgU2i+mQYNGrRz5061Wn38+HG5XP7KK6/Q2x89eiSVSvUcD1pkYYBbX2eRvLpu/en7TGcBAHhZzTfTpk2bzpw5Y2JiMnv27A8//NDKyorefvTo0eHDh+s5HrQIj8vZNq0vj0NduJ9/4V4e03EAAF5K8/czeXt7P3jw4MaNGw4ODtpTeYSQOXPm9OrVS5/Z4AX0kli8Pdxj15XUdafvD+5iIzIxYjoRAEArNX/MdPPmzVu3bk2ePJmupYMHD7q7u9vZ2Z0+fVoikeg/IbTUsle6edgIn8iV285jGnIA6MBadDbv/v2nVy/u3r37z3/+c/To0WvXrv3ll19CQ0P1HA9egMCIGzrNixByJDLrZmox03EAAFqp+WaKi4sbNWoU/fjo0aMDBw7cu3fvqlWrdu7cidXW2Wagh/XrA10IISEnE6pr22myXQCAttV8M5WWltrb29OPr169GhQURD/28/PLysINNKyzNsjT3oL/uFix4w/cbQYAHVLzzWRvb09PN15TUxMbGzto0CB6u1wuNzLCZXbWsRAYbZ7chxCyNyLtXk4503EAAF5Y8800bty4tWvXRkREhISEmJqaDh06lN6ekJDQpUsXPceD1hjT22G8l6NKrVl7MqFOpWY6DgDAi2m+mTZv3szj8YYPH7537969e/caGxvT2//3v/+NGTNGz/GgldZP6iUyMbqXI/vvdUxDDgAdTPNr2tLKy8vNzMy43L8W9i4pKTEzM9MWlb5hTdsX9VN01ofHE/g8zsWVw9xshEzHAQB4qtnv85YuNycSiXRriRAiFovbrZagFWYOcA7oYq2sU4ecvItpyAGgA2FmIVSVSrVu3Tp3d3cTE5MuXbps3rwZX51tjqKo0GleAiPOzbTin6OzmY4DANBSzDTT9u3bd+/e/fXXXz948GD79u2ff/75f0/uAO4AACAASURBVP7zH0aSdG6u1sJVr3YnhHx2NrEQ05ADQAfBTDP9+eefkydPHj9+vJub24wZM8aMGRMZGclIkk7vzUB3LyeRrLpuwy+YhhwAOgZmmikgIODSpUuPHj0ihMTHx1+/fl17Ay+0LR6Xs226F5dDnbubf/F+PtNxAACa1/xc4/qwdu1amUzm6enJ5XJVKtWWLVvmzZv3/G5KpVK7OKFMJmvfjJ1Hb4loyTCP3eGp607dG+RhjWnIAYDlmDlm+umnn3788cfDhw/HxsYeOHDgX//614EDB57fLTQ0VPQMVil8GStGdXO3ERbKldvOJzGdBQCgGS29n6ltSaXStWvXBgcH008/++yzQ4cOJSXV/9Ksd8wklUpxP1Or3UornrPnFiHk6JJBgzysmY4DAIarze5nalsKhYLD+eujuVyuWt3AJDp8Pt9CRzsG7IQGeVjP9aenIb+LacgBgM2YaaaJEydu2bLl7Nmzjx8/DgsL+/LLL6dOncpIEoOyNsjTzpyfXlS58xKmIQcA9mLmbJ5cLl+3bl1YWFhhYaFEIpk7d+6nn37a9IwSmJ2oTVy8n//2DzFcDnVmaWBviYjpOABgiJr9PmemmVoBzdRW3j0Uc/5evpeTKOy9AB6XmYNmADBkLL3OBAzaOLm3hYB3N6d8343HTGcBAGgAmsng2JkLPhnfkxDyxe8PM4ormY4DAFAfmskQzfKVDvawrq5VfxyGacgBgHXQTIaInoacz+PcSCn+OQbTkAMAu6CZDJSbjfD9V7sTQracfVAoxzTkAMAiaCbDtXiIe2+JRXlV7cYziUxnAQD4C5rJcPG4nO3T+3I51Nm7eb9hGnIAYA00k0Hr4yR6a6gHIWTd6Xuy6lqm4wAAEIJmgpWju7lZmxbIlNsxDTkAsAOaydAJjLhbp3kRQn68nXk7rZjpOAAAaCYgJKCLzRw/KcE05ADADmgmIISQkHE9bc35aUWVX19OYToLABg6NBMQQojIxGjz5N6EkG+vpj7Iw8L2AMAkNBM89Vofx9d6O9SpNR+dSFCpMWURADAGzQR/2Ti5t7mAl5Bdvu9GOtNZAMBwoZngL/YWgo/H9SSE/Ou3h5nFCqbjAICBQjPB38zxkw7yEGMacgBgEJoJ/oaiqNBpffk8zvWUohOxOUzHAQBDhGaC+txthCtHdyeEbP418YlcyXQcADA4aCZowOKh7r0cLcqrajf+cp/pLABgcNBM0AAjLufzGX25HOrXhLw/EguYjgMAhgXNBA3r4yRaPMSdELLu9D05piEHgHaEZoJGrRzd3dXaNK+8+vMLD5nOAgAGBM0EjTIx5oZO9SKE/HArI+pxCdNxAMBQoJmgKQFdbWb7Sgkha08kYBpyAGgfaCZoxsfjetqY8VOfVO66gmnIAaA9oJmgGSJTo02TexNCdoenJuVjGnIA0Ds0EzQvqI/DmF72dWrNRyfuYhpyANA3NBM0j6KoTZP7mPN58Vll+/98zHQcAOjk0EzQIg4iQQg9DfnFh1klmIYcAPQIzQQtNcdP6u8urqpVYRpyANArNBO0FIdDbZvmZczjRCQXhd3BNOQAoC9oJngBHrZmK0Z1I4Rs+jWxqALTkAOAXqCZ4MUsGebR09GiTFG76ZdEprMAQOeEZoIXY8TlbJ/uxaHImfjcy0mYhhwA2h6aCV5YX2fLxUM9CCGfhN2rUNYxHQcAOhvGmiknJ+cf//iHtbW1iYmJl5dXdHQ0U0mgFd4f3d1FTE9DnsR0FgDobJhpptLS0sDAQCMjo/PnzycmJn7xxRdWVlaMJIHWMTHmhk57Og358ZhspuMAQKfCY+RTt2/fLpVK9+3bRz91d3dnJAa8jMCuNv8Y5HLoVuYHP8cn5cnWBnnyuDg5DABtgJmvkjNnzvj6+s6cOdPOzs7Hx2fv3r0N7qZUKmU62jkkNGvTpD7LX+lKCPn+evqbB6LLq7D0LQC0AWaaKS0tbffu3d26dbt48eK77767fPnyAwcOPL9baGio6BmpVNr+OaFpHA61akyPXa/3Fxhxrj16MnXXjdQnFUyHAoAOj2JkmhljY2NfX98///yTfrp8+fKoqKibN2/W202pVCqVT2/nlMlkUqm0vLzcwsKiXbNCC9zLKV9yMDq3vNpcwNs512dkDzumEwEAe8lkMpFI1MT3OTPHTI6Ojr169dI+7dmzZ2Zm5vO78fl8Cx3tGBBeTB8n0emlQ3xdreTVdf/cH7XnWiom1gOAVmOmmQIDAx8+fKh9+ujRI1dXV0aSQFuxNecffmvQbF+pWkO2nkta/VM8VmcHgNZhppnef//9W7dubd26NSUl5fDhw3v27AkODmYkCbQhYx5n23SvDRN7cTnUyTs5s/fcKpBVMx0KADoeZq4zEUJ+/fXXkJCQ5ORkd3f3VatWvfXWW03v3+x5SWCPGylF7/0YW15Va2fO3zPft5/UkulEAMAizX6fM9ZMLwrN1LFkFFcuPhCdXFhhzONsn+411ceZ6UQAwBYsHQEBnZ6rtfDkewGje9rV1KnfPxYfeu6BSt0x/g4EAIxDM4G+mAuM9rzhGzyyCyHku2tpiw9EyapxKy4ANA/NBHrE4VBrxnrunOvD53GuPHwyZdeNNNyKCwDNQTOB3k3ylhx/J8BRJEh7Ujll141rj54wnQgAWA3NBO3By1l0emlgfxdLWXXdwn2R30ekdZShNwDQ/tBM0E7szAVHlgyaOcBZrSGfnX2w5niCsg634gJAA9BM0H74PO7nM/p+OqEXhyLHY7Ln7LlViFtxAeA5aCZoVxRFvTnEff8ifwsB705m2aSvbyRklzEdCgDYBc0EDBjW3fb00iFdbIX5suqZ3948HZfDdCIAYBE0EzDD3UYYFhz4iqedsk694mjc9gtJuBUXAGhoJmCMhcBo73zfd4Z3IYTsDk9dcjBajltxAQDNBMzicqi1QZ47Zvfj8ziXkgqnfvPn46JKpkMBAMPQTMC8KT5OP7092N6Cn1JYMXnXjevJRUwnAgAmoZmAFbyllr8sHdJPalleVbtgX+S+G+m4FRfAYKGZgC3sLARHlwya1t9JpdZs/CVx7Ym7uBUXwDChmYBFBEbcL2Z6/9/4nhyKHIvOen3v7SdyJdOhAKC9oZmAXSiKWjzU438L/cwFvJiM0klfX7+XU850KABoV2gmYKMRPexOBQd62ArzyqtnfPvnL/G5TCcCgPaDZgKW6mJrFvZe4PDuttW16mVH7vzr4kM1bsUFMAxoJmAvkYnR/xb6LRnmQQj5+krK24diKpR1TIcCAL1DMwGrcTnUx+N6fjnL25jH+T2xYNo3NzKKcSsuQCeHZoIOYFp/52NLBtmZ8x8VVEzedePPFNyKC9CZoZmgY/BxsTqzdIi3s6hMUfvG/yIP/PkYt+ICdFZoJugwHESCY28PnurjpFJr1p+5/3HY3Zo6NdOhAKDtoZmgIxEYcb+c5R0S5ElR5Ehk1rzvbxVV4FZcgM4GzQQdDEVRbw/v8r8FfuZ8XtTj0slf37ifi1txAToVNBN0SCM97cKCA91thDllVTN23zybkMd0IgBoM2gm6Ki62pmdei9waDebqlpV8OHYL39/hFtxAToHNBN0YCJTo30L/RYPcSeE7LyU/O6PMZW4FReg40MzQcfG43L+b0Kv/zejrzGXc/F+wfTdf2aVKJgOBQAvBc0EncFMX+mRJYNszPhJ+fJJX1+/mVrMdCIAaD00E3QSA1ytflkW6OUkKlXUvvHf2z/cymA6EQC0EpoJOg9HkcnP7wye5C2pU2vWnbr3CW7FBeiY0EzQqQiMuF/N6ffhaz0oivx4O/ON/94uxq24AB0Nmgk6G4qi3hvR9fv5vmZ83u30kklf33iQJ2M6FAC8AOabadu2bRRFrVy5kukg0KmM6mkf9l6Aq7VpTlnV9N1/XriHW3EBOgyGmykqKuq7777r27cvszGgU+pmb346ODCwq7WiRvXOodgVR+/cSCnC3bgA7MdkM1VUVMybN2/v3r1WVlYMxoBOzNLU+MAi/4UBboSQ03G5876/PWT75f93MSntSQXT0QCgUUw2U3Bw8Pjx40ePHt3YDkqlUqajPbNBp8HjcjZM6n0qOHDeQBcLAS+3vHrXldRXvrg69Zsbh25llCtqmQ4IAPXxmPrgo0ePxsbGRkVFNbFPaGjoxo0b2y0SdGL9pJb9pJbrJvS69KDweEzWteSiO5lldzLLNv2a+GpP++kDnIZ1s+Vxmb/sCgCEEIqRhUGzsrJ8fX1///13+grTiBEj+vXrt2PHjnq7KZVKpfLpkF+ZTCaVSsvLyy0sLNo7LnQ6hfLq03dyT8RmJ+XL6S225vwp/STTBzh7OuB/MAD9kslkIpGoie9zZprp1KlTU6dO5XK59FOVSkVRFIfDUSqV2o31NPubALwojUZzP1d2Ijb7dFxuSWUNvbG3xGJ6f+fJ/STWZnxm4wF0VixtJrlcnpHx1+QxixYt8vT0/Oijj/r06dPYj6CZQH9qVerwh09OxGRfSiqoVWkIITwONaKH3YwBTq942hvzcJYPoC01+33OzHUmc3Nz3RISCoXW1tZN1BKAXhlxOa/2sn+1l31pZc2Z+NwTsdkJ2eV/PCj440GBpanRJG/J9P7OfZ1FFEUxnRTAIDA2AgKAhayExgsC3BYEuCUXyI/HZp+6k1MgUx68mXHwZkY3O7PpA5yn+jjZWwiYjgnQyTFzNq8VcDYP2p9KrbmeUnQiJvvi/XxlnZoQwqHIkG620/s7je3tIDBq+JooADSNpdeZWgHNBAySVdeeTcg7EZMdnVFKbzHn88b3dZw+wNnX1Qpn+QBeCJoJoC09Lqo8GZt9IjYnp6yK3uJqbTq9v/NUHyep2JTZbAAdBZoJoO2p1Zrb6SUnYrPP3c1T1KjojYM8xNP7O4/zchTycfkWoCloJgA9qlTWXbiXfyI2+2ZaMf0nycSIG9THYfoA58Ee1hwOzvIBNADNBNAecsqqwmKzT8TmpBdV0lskIsG0/s7T+jt52Joxmw2AbdBMAO1Ho9HEZpadiM3+JT5XXl1Hb+zvYjl9gPOEvhKRiRGz8QBYAs0EwIDqWtXviQUnYrOvPXpCLwhlzOO82st+Rn/nod1sMHUsGDg0EwCTCmXVp+JyTsTkPCzA1LEAT6GZAJhHTx17PCb7TDymjgVAMwGwSU2dOvxh4fGY7CsPC7VTx470tJve3/kVTztMHQsGAs0EwEYllTVn4nJOxObczSmnt1jRU8cOcPZywtSx0MmhmQBY7VGB/ERMdtidnEL500UyXa1NB7lbD/QQ+7uLna0wrwR0QmgmgA6gTqW+nlJ0PCb7t8SCmjq1druTpclAd7G/u9jfXexuI8SxFHQOaCaAjkReXRuZXhKZXnI7veRuTrlK/dcfT1tzvr+7eKC7eKC7dTc7M0wwAR0Xmgmgo6pU1sVmlkaml9xOK4nLKqtR/XUsZWlq5Of2tKV6SSy4aCnoUNBMAJ1Bda0qLquMPpyKySitqlVpXzLj83zdrPzdxQPdrb2cRBjgB+yHZgLobGrq1PdyyyPTS26nFUc/LpUr67QvCYw4/V2sBrpb+7uLfVwssbYhsBOaCaAzU6k1D/Jkt9NLItOLI9NLShW12peMuRxvqcjfXezvbj3A1coMa3MAa6CZAAyFWq1JeVJxO73kdlrx7fSSJ8+GoRNCuByqj8SCPuPn5yYWmWJuWWASmgnAEGk0moxixe304tvpJbfTSrQr8BJCKIp4OlhoB6PbYG4kaHdoJgAg2aWKqMclt9NKItNL0p6tIEXrYiv0d7ce5CH2dxc7ikyYSggGBc0EAH9TKK+mx/hFppck5ct1X5KKTejREwPdxS5iU9zYC3qCZgKARpVW1kQ9fnpj7/3ccp37eomDhcDfXTzQQzzQXdzF1gwtBW0IzQQALSKvro3OKKWPpRKyy+ip0GnWQmP/Z9elPB1wYy+8LDQTALywqhrVnczS2+klt9OL72SWKXWm8rMQ8PzcxP7uYj93cVc7MwsBhvnBC0MzAcBLUdap7maX304vuZ1eEvO4pLJGpfuqtdDY3UboZiN0txG62wjdrIVuNqamxrh3CpqCZgKANlOnUt/PldHXpeKyyooqlA3u5mAhcLMxpYuKbiwXa1M+DxNSwFNoJgDQF3l1bUaxIr2oMr2o8nFRZXpxZXpRZZnOPBRaFEWcLE10u8rNRuhsZWLExSx/hgjNBADtqkxRo9NVivSiisdFigqdyf20eBxKKjZ1szZ1sxF62AjdbIRu1kKJpQlGWHR6aCYAYJhGoymqqHlcXJn+pDK9uPIx3VvFldW16ud3NuZxXMWmuheu3G2E9hZ8DFvvTJr9PseFSgDQL4qibM35tuZ8PzexdqNarSmQV+t0lSK9qCKzRFFTp04urEgurNB9B1Njrqu10N3GVPdkoLXQGHXVWeGYCQDYQqXW5JZVpRU9Pa6iD62yS6t01/bVMhfw6l24crcWYrLaDgFn8wCgY6upU2eVKnS76nGRIre8qsGvLrHQuN6FK3cboRArgLAMzuYBQMdmzON0sTXrYmumu7G6VkUPC9S9fFUoV5ZU1pRU1sRmlunubGNm7GRlKrUycbYydbYykYpNna1MnCxNsLIia6GZAKDjERhxeziY93Aw191Yoax7/PSgqpI+Jfi4WFFSWVNUUVNUUROfVVbvTezM+c5WJs5WplLxs9KyMnW0FODWK8YxdjYvNDT05MmTSUlJJiYmAQEB27dv79GjRxP742weALRCuaI2q1SRXarILq3KLq3KKlFkl1ZllSoUf5/MQouiiL25QLer6PZytBTg7qu2wt7rTK+99tqcOXP8/Pzq6uo+/vjje/fuJSYmCoXCxvZHMwFAW9FoNKWKWrqu6K7KLlVklVZllyoaHMtOCOFQxFFk4vRXVz092HKwEPDQWC+Ivc2k68mTJ3Z2dlevXh02bFhj+6CZAEDfNBpNcWXNs66qynp6pKXILq2qqWu4sbgcylEk0B5aaQ+27C0EuGW4MR1jBER5eTkhRCwW19uuVCqVyqcTc8lksvaOBQAGhqIoGzO+jRnfx8VKd7tarSmqUGY9ayntwVZOWVWtSkPXWL23MuJSEksT3fOBdGnZmvE5aKzmMH/MpFarJ02aVFZWdv369XovbdiwYePGjbpbcMwEAOyhVmsK5cqn17FKtMdYVbllVXUN3YNFCDHmcZwtTZyeG3lhY2ZANw53gLN577777vnz569fv+7s7FzvpXrHTFKpFM0EAOxXp1IXyJXZJYosnQOs7NKqvPKqRgqLCIw4zlamrmJTF2tTV7Gpq43QVWzqbGVqzOuEF7HYfjZv6dKlv/7667Vr156vJUIIn8/n8/ntnwoA4GXwuBwnSxMnS5OBf99eq1Lnl1drD62ynw2+yJNVV9eqUworUv4+LRM97MLNxtRFLHSlG8ta6Gpt2unvHWbs19NoNMuWLQsLCwsPD3d3d2cqBgBAuzHicqRiU6nYtN72mjp1bllVVqkio1iRUVyZUazILFFkFCuqalU5ZVU5ZVU3SLHu/jZmxi7PWsrV+mlvdaaJBBk7m/fee+8dPnz49OnT2tuYRCKRiYlJY/tjbB4AGBSNRvNErswoUWQUKzKLKzNKFI+LFZnFlaUNrYBFCDHj81zEpq7Wpi7Wpm7WQvrEoKOIjauKsPc60/Pdvm/fvoULFza2P5oJAIAQIquuzSxWPKYPrYoVGSWVGcWKvPLqBnc25nKcrUxcrU1drYV0b7lamzpbmTI7MxN7m+lFoZkAABpTXavKLlVkFD89rsooUWQWK7JKFbWqBr7hKYo4WghcrE1dxUJXG1NXsZA+0rIQtNNM7WgmAAADRa8qQl+yyiipzChSZJQoMosrKxuZmUksNH56XCU2dbEWulmbulib2pq1/bKNaCYAAPgLPc8FPc7i2VCLyoxiRXFlTYP7mxpzn50GfHY+UCyUWL7UnExoJgAAaJ68ujazRJFJnw8sedpbja2DNW+gy5apXq3+LLbfzwQAAGxgLjDqLRH1loh0NyrrVNmlVZnFioziysfPDrCySqpcresPfG9baCYAAGgYn8d9ftlGtVpTq254ftu2gmYCAIAXwOFQfI5+B513whmZAACgQ0MzAQAAu6CZAACAXdBMAADALmgmAABgFzQTAACwC5oJAADYBc0EAADsgmYCAAB2QTMBAAC7oJkAAIBd0EwAAMAuaCYAAGCXDjPXOL3CoUwmYzoIAAC8FPqbvIl1aztMM8nlckKIVCplOggAALQBuVwuEokafKnDrLauVqtzc3PNzc0pimr1m8hkMqlUmpWVxfIl25GzzXWUqMjZ5jpKVIPKqdFo5HK5RCLhcBq+otRhjpk4HI6zs3ObvJWFhQXL/9vTkLPNdZSoyNnmOkpUw8nZ2NESDSMgAACAXdBMAADALtwNGzYwnaFdcbncESNG8HhsP42JnG2uo0RFzjbXUaIip1aHGQEBAAAGAmfzAACAXdBMAADALmgmAABgFzQTAACwi6E007Vr1yZOnCiRSCiKOnXqFNNxGhUaGurn52dubm5nZzdlypSHDx8ynahhu3fv7tu3L3233eDBg8+fP890ouZt27aNoqiVK1cyHaRhGzZsoHR4enoynahROTk5//jHP6ytrU1MTLy8vKKjo5lO1DA3Nzfq74KDg5kO1QCVSrVu3Tp3d3cTE5MuXbps3ryZtQPT5HL5ypUrXV1dTUxMAgICoqKi9PRBbB+e2FYqKyu9vb3ffPPNadOmMZ2lKVevXg0ODvbz86urq/v444/HjBmTmJgoFAqZzlWfs7Pztm3bunXrptFoDhw4MHny5Dt37vTu3ZvpXI2Kior67rvv+vbty3SQpvTu3fuPP/6gH7N26HBpaWlgYODIkSPPnz9va2ubnJxsZWXFdKiGRUVFqVQq+vG9e/deffXVmTNnMhupQdu3b9+9e/eBAwd69+4dHR29aNEikUi0fPlypnM1YPHixffu3fvhhx8kEsmhQ4dGjx6dmJjo5OTU9p+kMTCEkLCwMKZTtEhhYSEh5OrVq0wHaZ6VldX333/PdIpGyeXybt26/f7778OHD1+xYgXTcRq2fv16b29vplM076OPPhoyZAjTKV7YihUrunTpolarmQ7SgPHjx7/55pvap9OmTZs3bx6DeRqjUCi4XO6vv/6q3dK/f/9PPvlEH59lKGfzOqLy8nJCiFgsZjpIU1Qq1dGjRysrKwcPHsx0lkYFBwePHz9+9OjRTAdpRnJyskQi8fDwmDdvXmZmJtNxGnbmzBlfX9+ZM2fa2dn5+Pjs3buX6UTNq6mpOXTo0Jtvvvky80HrT0BAwKVLlx49ekQIiY+Pv379elBQENOhGlBXV6dSqQQCgXaLiYnJ9evX9fJh+qg7NiMd5JhJpVKNHz8+MDCQ6SCNSkhIEAqFXC5XJBKdPXuW6TiNOnLkSJ8+faqqqjQaDZuPmc6dO/fTTz/Fx8dfuHBh8ODBLi4uMpmM6VAN4PP5fD4/JCQkNjb2u+++EwgE+/fvZzpUM44dO8blcnNycpgO0jCVSvXRRx9RFMXj8SiK2rp1K9OJGjV48ODhw4fn5OTU1dX98MMPHA6ne/fu+vggNBNLvfPOO66urllZWUwHaZRSqUxOTo6Ojl67dq2Njc39+/eZTtSAzMxMOzu7+Ph4+imbm0lXaWmphYUFO0+QGhkZDR48WPt02bJlgwYNYjBPS4wZM2bChAlMp2jUkSNHnJ2djxw5kpCQcPDgQbFYzNqyT0lJGTZsGCGEy+X6+fnNmzfP09NTHx+EZmKj4OBgZ2fntLQ0poO01KhRo5YsWcJ0igaEhYXRf4pohBCKorhcbl1dHdPRmuHr67t27VqmUzTAxcXln//8p/bpN998I5FIGMzTrMePH3M4nFOnTjEdpFHOzs5ff/219unmzZt79OjBYJ5mVVRU5ObmajSaWbNmjRs3Th8fgetM7KLRaJYuXRoWFnb58mV3d3em47SUWq1WKpVMp2jAqFGj7t69G/eMr6/vvHnz4uLi6JZirYqKitTUVEdHR6aDNCAwMFD3ZoZHjx65uroymKdZ+/bts7OzGz9+PNNBGqVQKHQX0ONyuWq1msE8zRIKhY6OjqWlpRcvXpw8ebI+PoKlI1PbXEVFRUpKCv04PT09Li5OLBa7uLgwm+p5wcHBhw8fPn36tLm5eX5+PiFEJBKZmJgwnau+kJCQoKAgFxcXuVx++PDh8PDwixcvMh2qAebm5n369NE+FQqF1tbWulvY44MPPpg4caKrq2tubu769eu5XO7cuXOZDtWA999/PyAgYOvWrbNmzYqMjNyzZ8+ePXuYDtUotVq9b9++BQsWsHYUPiFk4sSJW7ZscXFx6d279507d7788ss333yT6VANu3jxokaj6dGjR0pKypo1azw9PRctWqSXT9LHgRgLXblypd4vvmDBAqZDNeD5/0D79u1jOlQD3nzzTVdXV2NjY1tb21GjRv32229MJ2oRNl9nmj17tqOjo7GxsZOT0+zZs1NSUphO1KhffvmlT58+fD7f09Nzz549TMdpCv0XpocPHzIdpCkymWzFihUuLi4CgcDDw+OTTz5RKpVMh2rYsWPHPDw8jI2NHRwcgoODy8rK9PRBWAUDAADYBdeZAACAXdBMAADALmgmAABgFzQTAACwC5oJAADYBc0EAADsgmYCAAB2QTMBvIDHjx9TFBUXF9c+H5eUlDRo0CCBQNCvX7+W7N/O8QD0BM0EncrChQspitq2bZt2y6lTp9i5Kk9LrF+/XigUPnz48NKlS/r+rP3791taWur7UwBaAs0EnY1AINi+fXtpaSnTQRpWU1PT8p1TU1OHDBni6upqbW2tv0gvQ6VSsXz6UeiI0EzQ2YwePdrBwSE0NPT5lzZs2KB7WmzHjh1ubm7044ULF06ZMmXr1q329vaWlpabNm2qq6tbs2aNvc7KIwAABupJREFUWCx2dnbet2+f7vskJSUFBAQIBII+ffpcvXpVu/3evXtBQUFmZmb29vZvvPFGUVERvX3EiBFLly5duXKljY3N2LFj66VSq9WbNm1ydnbm8/n9+vW7cOECvZ2iqJiYmE2bNlEUtWHDhud/6vPPP+/atSufz3dxcdmyZUu9HeodA+keO8bHx48cOdLc3NzCwmLAgAHR0dHh4eGLFi0qLy+nKEr7cUql8oMPPnBychIKhQMHDgwPD9d95zNnzvTq1YvP52dmZoaHh/v7+wuFQktLy8DAwIyMjEb+4wC0CJoJOhsul7t169b//Oc/2dnZL/SDly9fzs3NvXbt2pdffrl+/foJEyZYWVndvn37nXfeefvtt3Xfbc2aNatXr75z587gwYMnTpxYXFxMCCkrK3vllVd8fHyio6MvXLhQUFAwa9Ys7Y8cOHDA2Nj4xo0b3377bb3P/eqrr7744ot//etfCQkJY8eOnTRpUnJyMiEkLy+vd+/eq1evzsvL++CDD+r9VEhIyLZt29atW5eYmHj48GF7e/uW/6bz5s1zdnaOioqKiYlZu3atkZFRQEDAjh07LCws8vLytB+3dOnSmzdvHj16NCEhYebMma+99hodjBCiUCi2b9/+/fff379/XywWT5kyZfjw4QkJCTdv3lyyZEnHPX0KbKGnmWIBGLFgwYLJkydrNJpBgwa9+eabmmeLB9Kvrl+/3tvbW7vzv//9b1dXV+0Purq6qlQq+mmPHj2GDh1KP66rqxMKhUeOHNFoNOnp6YSQbdu20S/V1tY6Oztv375do9Fs3rx5zJgx2jfPysoiz2a5Hj58uI+PT2OZJRLJli1btE/9/Pzee+89+rG3t/f69euf/xGZTMbn8/fu3VtvOx3vzp07Go1m3759IpFI+5Luvwdzc/PnV02tt39GRka9FcpHjRoVEhJC70kIiYuLo7fTxRweHt7YLwjwonDMBJ3T9u3bDxw48ODBg5b/SO/evbULuNnb23t5edGPuVyutbV1YWGhds/BgwfTD3g8nq+vL/0p8fHxV65cMXvG09OTEJKamkrvOWDAgAY/VCaT5ebmBgYGarcEBgY2G/vBgwdKpXLUqFEt/+10rVq1avHixaNHj962bZs2YT13795VqVTdu3fX/kZXr17V7mxsbNy3b1/6sVgsXrhw4dixYydOnPjVV1/l5eW1LhWAFpoJOqdhw4aNHTs2JCREdyOHw9HoLPtSW1ur+6qRkZH2MUVR9Z42e52/oqJi4sSJcTqSk5OHDRtGvyoUClv9uzyvJYtJNvHLbtiw4f79++PHj798+XKvXr3ow6l6KioquFxuTEyM9td58ODBV199pQ2ge8pu3759N2/eDAgIOHbsWPfu3W/dutX63w0AzQSd2LZt23755ZebN29qt9ja2ubn52u/r1t934/2m7euri4mJqZnz56EkP79+9+/f9/Nza2rjmYLycLCQiKR3LhxQ7vlxo0bvXr1avqnunXrZmJi0vRQcltbW7lcXllZST+t98t27979/fff/+2336ZNm0afnTM2NlapVNodfHx8VCpVYWGh7q/j4ODQ2Mf5+PiEhIT8+eefffr0OXz4cNP5AZqGZoJOy8vLa968eTt37tRuGTFixJMnTz7//PPU1NRdu3adP3++de+8a9eusLCwpKSk4ODg0tJSem3s4ODgkpKSuXPnRkVFpaamXrx4cdGiRbrf9Y1Zs2bN9u3bjx079vDhw7Vr18bFxa1YsaLpHxEIBB999NGHH3548ODB1NTUW7du/fe//623z8CBA01NTT/++OPU1NTDhw/v37+f3l5VVbV06dLw8PCMjIwbN25ERUXRzerm5lZRUXHp0qWioiKFQtG9e/d58+bNnz//5MmT6enpkZGRoaGhZ8+efT5Menp6SEjIzZs3MzIyfvvtt+TkZPoNAVoNzQSd2aZNm3TPwvXs2fObb77ZtWuXt7d3ZGTk8wPeWmjbtm3btm3z9va+fv36mTNnbGxsCCH0oY9KpRozZoyXl9fKlSstLS21F66asHz58lWrVq1evdrLy+vChQtnzpzp1q1bsz+1bt261atXf/rppz179pw9e7buZTCaWCw+dOjQuXPnvLy8jhw5oh13zuVyi4uL58+f371791mzZgUFBW3cuJEQEhAQ8M4778yePdvW1vbzzz8nhOzbt2/+/PmrV6/u0aPHlClToqKiXFxcnk9iamqalJQ0ffr07t27L1myJDg4+O233242P0ATsNo6AACwC46ZAACAXdBMAADALmgmAABgFzQTAACwC5oJAADYBc0EAADsgmYCAAB2QTMBAAC7oJkAAIBd0EwAAMAuaCYAAGAXNBMAALDL/wdTZn4ye1aLuAAAAABJRU5ErkJggg==)"
      ],
      "metadata": {
        "id": "R4x9aw3ZnCHp"
      }
    },
    {
      "cell_type": "code",
      "source": [
        "from sklearn.cluster import KMeans\n",
        "import warnings\n",
        "warnings.filterwarnings('ignore')   # suppressing non-vital warnings regarding the change of value of some variables\n",
        "\n",
        "# Determine the optimal #clusters using the ELBOW method\n",
        "sse = []\n",
        "for k in range(1, 15):\n",
        "    kmeans = KMeans(n_clusters=k, random_state=1)\n",
        "    kmeans.fit(df_standardized)\n",
        "    sse.append(kmeans.inertia_)\n",
        "\n",
        "# Plot the SSE for each k\n",
        "plt.plot(range(1, 15), sse, marker='o')\n",
        "plt.xlabel('Number of clusters')\n",
        "plt.ylabel('SSE')\n",
        "plt.title('ELBOW method diagram')\n",
        "plt.show()\n"
      ],
      "metadata": {
        "id": "3a5WhQHWpkXE"
      },
      "execution_count": null,
      "outputs": []
    },
    {
      "cell_type": "markdown",
      "source": [
        "Indeed, we can observe that for #clusters < 4, the SSE starts to increase rapidly. Therefore, we consider the \"elbow\" point to be at #clusters = 4."
      ],
      "metadata": {
        "id": "sTY_yuVVnDzA"
      }
    },
    {
      "cell_type": "markdown",
      "source": [
        "* The Agglomerative and Kmeans algorithms are applied to normalized data, so we need to use the normalized version of our .csv file. Additionally, to have a better cluster visualization, we use the reduced version of our data (the one with PCA_1, PCA_2, and PCA_3), which is the df_PCA dataframe. The logic behind Agglomerative is that it gradually tries to create a hierarchical structure of correlations among the data, eventually constructing a single cluster with all the data points. On the other hand, Kmeans follows a partitioning logic, where after determining the number of clusters, the algorithm assigns each data point to the nearest cluster centroid. The centroids can be adjusted to achieve optimal assignment and clustering of the data points. The process is repeated until the centroids practically do not change, and there is a \"balance\" in the system/structure of the clusters.\n",
        "\n",
        "* The silhouette score is a metric used to evaluate the similarity of a data point to its assigned cluster, indicating the quality of the clustering we have chosen. Its value ranges from -1 to 1. A score of -1 indicates minimal similarity to the assigned cluster, while a score of 1 indicates maximum/\"perfect\" similarity. When the score is 0, it means that the data point is on the boundary between two clusters (i.e., it is equally similar to both).\n",
        "\n",
        "* In brief, the silhouette score is obtained by calculating the average distance of the data point to the other points within its cluster (intra-cluster distance), the average distance to the data points of the neighboring clusters (nearest-cluster distance), and then finding the score for each data point using these two distances and taking the maximum of them. After calculating the scores for all data points, the overall mean is calculated to characterize the quality of our clustering."
      ],
      "metadata": {
        "id": "Gbllx2sZpmWb"
      }
    },
    {
      "cell_type": "markdown",
      "source": [
        "The 3D plot is interactive for better visualization and comprehension of the results (mouse drag and zooming). Additionally, we observe that there are no cluster centroids in Agglomerative clustering since it does not employ such a centroid-based approach for cluster computation."
      ],
      "metadata": {
        "id": "BOQzfCHpZpag"
      }
    },
    {
      "cell_type": "code",
      "source": [
        "import plotly.graph_objs as go\n",
        "from sklearn.cluster import AgglomerativeClustering\n",
        "from scipy.cluster.hierarchy import dendrogram, linkage\n",
        "from sklearn.metrics import silhouette_score\n",
        "\n",
        "# Perform Agglomerative clustering\n",
        "agglom = AgglomerativeClustering(n_clusters=4)  # 4 clusters as we calculated previously\n",
        "agglom_labels = agglom.fit_predict(df_PCA)\n",
        "\n",
        "# Add cluster labels to original dataset\n",
        "df_PCA['Cluster'] = agglom_labels\n",
        "\n",
        "# Create a trace for each cluster\n",
        "traces = []\n",
        "for i in range(4):\n",
        "    trace = go.Scatter3d(\n",
        "        x=df_PCA.loc[df_PCA['Cluster'] == i]['PCA_1'],\n",
        "        y=df_PCA.loc[df_PCA['Cluster'] == i]['PCA_2'],\n",
        "        z=df_PCA.loc[df_PCA['Cluster'] == i]['PCA_3'],\n",
        "        mode='markers',\n",
        "        marker=dict(\n",
        "            size=4,\n",
        "            color=i,  # assign a different color to each cluster\n",
        "            opacity=0.8\n",
        "        ),\n",
        "        name=f'Cluster {i}'\n",
        "    )\n",
        "    traces.append(trace)\n",
        "\n",
        "# Create the layout for the plot\n",
        "layout = go.Layout(\n",
        "    title='Agglomerative 3D plot',\n",
        "    scene=dict(\n",
        "        xaxis_title='PCA_1',\n",
        "        yaxis_title='PCA_2',\n",
        "        zaxis_title='PCA_3'\n",
        "    ),\n",
        "    width=800,  # set the width of the plot\n",
        "    height=800  # set the height of the plot\n",
        ")\n",
        "\n",
        "# Create the figure object\n",
        "fig = go.Figure(data=traces, layout=layout)\n",
        "\n",
        "# Show the plot\n",
        "fig.show()\n"
      ],
      "metadata": {
        "id": "BzBnCpsrmhi8"
      },
      "execution_count": null,
      "outputs": []
    },
    {
      "cell_type": "markdown",
      "source": [
        "If we simply want to visualize the hierarchical tree structure created by Agglomerative clustering, we can execute the following code on our standardized dataset (df_standardized), assuming that we are working with the entire dataset and not the reduced 3-dimensional version:"
      ],
      "metadata": {
        "id": "GrILxxKgpmkB"
      }
    },
    {
      "cell_type": "code",
      "source": [
        "# Create linkage matrix\n",
        "tree = linkage(df_standardized, method='ward')\n",
        "\n",
        "# Create dendrogram with truncated branches\n",
        "plt.figure(figsize=(30, 12))\n",
        "dendrogram(tree, color_threshold=10)\n",
        "plt.title('Agglomerative tree plot')\n",
        "plt.show()\n",
        "\n",
        "# Create dendrogram with truncated branches (ZOOMED in)\n",
        "plt.figure(figsize=(30, 12))\n",
        "dendrogram(tree, color_threshold=10, truncate_mode='lastp', p=200)\n",
        "plt.title('Agglomerative tree plot (ZOOMED in)')\n",
        "plt.show()"
      ],
      "metadata": {
        "id": "mrYqj5SQ6Zuw"
      },
      "execution_count": null,
      "outputs": []
    },
    {
      "cell_type": "markdown",
      "source": [
        "In the following code segment, we create the data clusters using the K-means algorithm. The 3D plot is interactive, allowing for better visualization and understanding of the results through mouse drag and zooming. On the right side of the plot, there is a filter box where we can select or unselect a specific color representing a cluster. This allows us to temporarily \"hide\" a cluster from the plot."
      ],
      "metadata": {
        "id": "ove2IvqzpmuT"
      }
    },
    {
      "cell_type": "code",
      "source": [
        "import plotly.graph_objs as go\n",
        "\n",
        "# Prepare the data for clustering\n",
        "data = df_PCA[['PCA_1', 'PCA_2', 'PCA_3']].values\n",
        "n_clusters = 4\n",
        "\n",
        "# Initialize the KMeans algorithm, #clusters=4 as we found previously\n",
        "kmeans = KMeans(n_clusters)\n",
        "\n",
        "# Fit the algorithm to the data\n",
        "kmeans.fit(data)\n",
        "\n",
        "# Get cluster labels for each data point\n",
        "labels = kmeans.predict(data)\n",
        "\n",
        "# Get the cluster centers\n",
        "centers = kmeans.cluster_centers_\n",
        "\n",
        "# Define the color map for the clusters\n",
        "colors = ['red', 'green', 'blue', 'yellow']\n",
        "\n",
        "# Create a 3D scatter plot with different colors for each cluster\n",
        "fig = go.Figure()\n",
        "for i in range(n_clusters):\n",
        "    x = data[labels == i][:, 0]\n",
        "    y = data[labels == i][:, 1]\n",
        "    z = data[labels == i][:, 2]\n",
        "    fig.add_trace(go.Scatter3d(x=x, y=y, z=z, mode='markers', marker=dict(color=colors[i], size=3)))\n",
        "\n",
        "# Add the cluster centers to the plot\n",
        "fig.add_trace(go.Scatter3d(x=centers[:, 0], y=centers[:, 1], z=centers[:, 2], mode='markers', marker=dict(color='black', size=6)))\n",
        "\n",
        "# Set the labels for the axes\n",
        "fig.update_layout(scene=dict(xaxis_title='PCA_1', yaxis_title='PCA_2', zaxis_title='PCA_3'), width=1000, height=800, autosize=False, margin=dict(l=50, r=50, b=50, t=50))\n",
        "\n",
        "# Enable mouse interactions for rotating the plot\n",
        "fig.update_layout(scene_camera=dict(eye=dict(x=1.7, y=-0.6, z=0.8)))\n",
        "\n",
        "# Show the plot\n",
        "fig.show()\n"
      ],
      "metadata": {
        "id": "0yFltTeNhy9D"
      },
      "execution_count": null,
      "outputs": []
    }
  ],
  "metadata": {
    "kernelspec": {
      "display_name": "Python 3 (ipykernel)",
      "language": "python",
      "name": "python3"
    },
    "language_info": {
      "codemirror_mode": {
        "name": "ipython",
        "version": 3
      },
      "file_extension": ".py",
      "mimetype": "text/x-python",
      "name": "python",
      "nbconvert_exporter": "python",
      "pygments_lexer": "ipython3",
      "version": "3.10.6"
    },
    "colab": {
      "provenance": []
    }
  },
  "nbformat": 4,
  "nbformat_minor": 0
}